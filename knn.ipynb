{
 "cells": [
  {
   "cell_type": "code",
   "id": "initial_id",
   "metadata": {
    "collapsed": true,
    "pycharm": {
     "name": "#%%\n"
    },
    "ExecuteTime": {
     "end_time": "2024-10-17T09:10:58.792042Z",
     "start_time": "2024-10-17T09:10:56.688045Z"
    }
   },
   "source": [
    "import optuna\n",
    "import pandas as pd\n",
    "import numpy as np\n",
    "\n",
    "from KNearestNeighbors import KNearestNeighbors\n",
    "from sklearn.model_selection import train_test_split\n",
    "from Kernel import Kernel\n",
    "from Lowess import Lowess\n",
    "from Metric import Metric"
   ],
   "outputs": [],
   "execution_count": 1
  },
  {
   "cell_type": "code",
   "source": [
    "np.random.seed(2931)\n",
    "df = pd.read_csv('SpotifyFeatures.csv')\n",
    "df = df.drop(np.random.choice(df.index, 230000, replace=False)).reset_index(drop=True)\n",
    "df.info()"
   ],
   "metadata": {
    "collapsed": false,
    "pycharm": {
     "name": "#%%\n"
    },
    "ExecuteTime": {
     "end_time": "2024-10-17T09:10:59.613042Z",
     "start_time": "2024-10-17T09:10:58.802045Z"
    }
   },
   "id": "76a9de2465e0d4ed",
   "outputs": [
    {
     "name": "stdout",
     "output_type": "stream",
     "text": [
      "<class 'pandas.core.frame.DataFrame'>\n",
      "RangeIndex: 2725 entries, 0 to 2724\n",
      "Data columns (total 18 columns):\n",
      " #   Column            Non-Null Count  Dtype  \n",
      "---  ------            --------------  -----  \n",
      " 0   genre             2725 non-null   object \n",
      " 1   artist_name       2725 non-null   object \n",
      " 2   track_name        2725 non-null   object \n",
      " 3   track_id          2725 non-null   object \n",
      " 4   popularity        2725 non-null   int64  \n",
      " 5   acousticness      2725 non-null   float64\n",
      " 6   danceability      2725 non-null   float64\n",
      " 7   duration_ms       2725 non-null   int64  \n",
      " 8   energy            2725 non-null   float64\n",
      " 9   instrumentalness  2725 non-null   float64\n",
      " 10  key               2725 non-null   object \n",
      " 11  liveness          2725 non-null   float64\n",
      " 12  loudness          2725 non-null   float64\n",
      " 13  mode              2725 non-null   object \n",
      " 14  speechiness       2725 non-null   float64\n",
      " 15  tempo             2725 non-null   float64\n",
      " 16  time_signature    2725 non-null   object \n",
      " 17  valence           2725 non-null   float64\n",
      "dtypes: float64(9), int64(2), object(7)\n",
      "memory usage: 383.3+ KB\n"
     ]
    }
   ],
   "execution_count": 2
  },
  {
   "cell_type": "code",
   "source": [
    "df.loc[df.genre == 'Children’s Music', 'genre'] = 'Children\\'s Music'\n",
    "point_columns = ['popularity', 'acousticness', 'danceability', 'duration_ms', 'energy', 'instrumentalness', 'liveness', 'loudness', 'speechiness', 'tempo', 'valence']\n",
    "features = df.genre.to_numpy()\n",
    "points = df.loc[:, point_columns].to_numpy()\n",
    "\n",
    "x_train, x_test, y_train, y_test = train_test_split(points, features, random_state=2931)\n",
    "\n",
    "min_x = np.min(x_train, axis=0)\n",
    "max_x = np.max(x_train, axis=0)\n",
    "x_train = (x_train - min_x) / (max_x - min_x)\n",
    "x_test = (x_test - min_x) / (max_x - min_x)"
   ],
   "metadata": {
    "collapsed": false,
    "pycharm": {
     "name": "#%%\n"
    },
    "ExecuteTime": {
     "end_time": "2024-10-17T09:10:59.724043Z",
     "start_time": "2024-10-17T09:10:59.709052Z"
    }
   },
   "id": "f2033eff0891cb27",
   "outputs": [],
   "execution_count": 3
  },
  {
   "metadata": {},
   "cell_type": "markdown",
   "source": [
    "***\n",
    "<h3>KNN</h3>"
   ],
   "id": "31f144241bcabfa9"
  },
  {
   "cell_type": "code",
   "source": [
    "from sklearn.metrics import accuracy_score\n",
    "\n",
    "knn = KNearestNeighbors(neighbors_count=30, metric=Metric.EUCLIDEAN, kernel=Kernel.GAUSSIAN)\n",
    "knn.fit(x_train, y_train)\n",
    "\n",
    "predictions = knn.predict(x_test)\n",
    "\n",
    "print(accuracy_score(y_test, predictions))"
   ],
   "metadata": {
    "collapsed": false,
    "pycharm": {
     "name": "#%%\n"
    },
    "ExecuteTime": {
     "end_time": "2024-10-17T09:11:05.388420Z",
     "start_time": "2024-10-17T09:10:59.757043Z"
    }
   },
   "id": "ddd23c9e3253e7a",
   "outputs": [
    {
     "name": "stdout",
     "output_type": "stream",
     "text": [
      "0.2932551319648094\n"
     ]
    }
   ],
   "execution_count": 4
  },
  {
   "cell_type": "code",
   "source": [
    "from sklearn.neighbors import KNeighborsClassifier\n",
    "\n",
    "lib_knn = KNeighborsClassifier(n_neighbors=30)\n",
    "lib_knn.fit(x_train, y_train)\n",
    "\n",
    "lib_predictions = lib_knn.predict(x_test)\n",
    "\n",
    "print(accuracy_score(y_test, lib_predictions))"
   ],
   "metadata": {
    "collapsed": false,
    "pycharm": {
     "name": "#%%\n"
    },
    "ExecuteTime": {
     "end_time": "2024-10-17T09:11:05.498421Z",
     "start_time": "2024-10-17T09:11:05.421420Z"
    }
   },
   "id": "f30bea03015013a4",
   "outputs": [
    {
     "name": "stdout",
     "output_type": "stream",
     "text": [
      "0.2829912023460411\n"
     ]
    }
   ],
   "execution_count": 5
  },
  {
   "metadata": {
    "ExecuteTime": {
     "end_time": "2024-10-17T09:11:05.546420Z",
     "start_time": "2024-10-17T09:11:05.532420Z"
    }
   },
   "cell_type": "code",
   "source": [
    "def optuna_for_lib(trial):\n",
    "    n_neighbors = trial.suggest_int(\"n_neighbors\", 1, 40)\n",
    "    weights = trial.suggest_categorical(\"weights\", [\"uniform\", \"distance\"])\n",
    "    metric = trial.suggest_categorical(\"metric\", [\"euclidean\", \"cosine\", \"manhattan\", \"cityblock\", \"minkowski\"])\n",
    "\n",
    "    opt_lib_knn = KNeighborsClassifier(n_neighbors=n_neighbors, weights=weights, metric=metric, p=3)\n",
    "    opt_lib_knn.fit(x_train, y_train)\n",
    "\n",
    "    opt_lib_predictions = opt_lib_knn.predict(x_test)\n",
    "    accuracy = accuracy_score(y_test, opt_lib_predictions)\n",
    "\n",
    "    return accuracy\n",
    "\n",
    "study = optuna.create_study(direction=\"maximize\")\n",
    "study.optimize(optuna_for_lib, n_trials=400)\n",
    "\n",
    "best_params = study.best_params\n",
    "best_accuracy = study.best_value\n",
    "\n",
    "print(\"Best params:\", best_params)\n",
    "print(\"Best accuracy:\", best_accuracy)"
   ],
   "id": "bac7149036720dd1",
   "outputs": [],
   "execution_count": 6
  },
  {
   "metadata": {},
   "cell_type": "markdown",
   "source": [
    "Best params: {'n_neighbors': 34, 'weights': 'distance', 'metric': 'cityblock'}\n",
    "<br>\n",
    "Best accuracy: 0.3313782991202346"
   ],
   "id": "427db0dffe233937"
  },
  {
   "metadata": {
    "ExecuteTime": {
     "end_time": "2024-10-17T09:11:05.594423Z",
     "start_time": "2024-10-17T09:11:05.580420Z"
    }
   },
   "cell_type": "code",
   "source": [
    "def optuna_for_own(trial):\n",
    "    neighbors_count = trial.suggest_int(\"n_neighbors\", 1, 40)\n",
    "    metric = trial.suggest_categorical(\"metric\", [\"cosine\", \"euclidean\", \"minkowski\"])\n",
    "    if metric == 'cosine':\n",
    "        metric = Metric.COSINE\n",
    "    elif metric == 'euclidean':\n",
    "        metric = Metric.EUCLIDEAN\n",
    "    elif metric == 'minkowski':\n",
    "        metric = Metric.MINKOWSKI\n",
    "    kernel = trial.suggest_categorical(\"kernel\", [\"uniform\", \"gaussian\", \"triangular\", \"epanechnikov\", None])\n",
    "    if kernel == 'uniform':\n",
    "        kernel = Kernel.UNIFORM\n",
    "    elif kernel == 'gaussian':\n",
    "        kernel = Kernel.GAUSSIAN\n",
    "    elif kernel == 'triangular':\n",
    "        kernel = Kernel.TRIANGLE\n",
    "    elif kernel == 'epanechnikov':\n",
    "        kernel = Kernel.EPANECHIKOV\n",
    "    window_width = trial.suggest_float(\"window_width\", 0, 1)\n",
    "    if window_width < 0.01:\n",
    "        window_width = None\n",
    "\n",
    "    opt_knn = KNearestNeighbors(neighbors_count=neighbors_count, metric=metric, kernel=kernel, window_width=window_width, minkowski_p=1)\n",
    "    opt_knn.fit(x_train, y_train)\n",
    "\n",
    "    opt_predictions = opt_knn.predict(x_test)\n",
    "    accuracy = accuracy_score(y_test, opt_predictions)\n",
    "\n",
    "    return accuracy\n",
    "\n",
    "study = optuna.create_study(direction=\"maximize\")\n",
    "study.optimize(optuna_for_own, n_trials=1000)\n",
    "\n",
    "best_params = study.best_params\n",
    "best_accuracy = study.best_value\n",
    "\n",
    "print(\"Best params:\", best_params)\n",
    "print(\"Best accuracy:\", best_accuracy)"
   ],
   "id": "e7a0bc23b0c96978",
   "outputs": [],
   "execution_count": 7
  },
  {
   "metadata": {},
   "cell_type": "markdown",
   "source": [
    "Best params: {'n_neighbors': 32, 'metric': 'minkowski', 'kernel': 'gaussian', 'window_width': 0.5157464799797326}\n",
    "<br>\n",
    "Best accuracy: 0.3416422287390029"
   ],
   "id": "44c4fe2abf734c34"
  },
  {
   "metadata": {},
   "cell_type": "markdown",
   "source": [
    "***\n",
    "<h3>LOWESS</h3>"
   ],
   "id": "77b94748a338f8a3"
  },
  {
   "metadata": {
    "ExecuteTime": {
     "end_time": "2024-10-17T09:11:05.642421Z",
     "start_time": "2024-10-17T09:11:05.628424Z"
    }
   },
   "cell_type": "code",
   "source": [
    "lowess = Lowess(knn)\n",
    "lowess_weights = lowess.correct_weights(x_train, y_train)\n",
    "\n",
    "lowess.knn.fit(x_train, y_train, object_weights=lowess_weights)\n",
    "lowess_predictions = lowess.knn.predict(x_test)\n",
    "\n",
    "print('With LOWESS -> ', accuracy_score(y_test, lowess_predictions))\n",
    "print('Without LOWESS -> ', accuracy_score(y_test, predictions))"
   ],
   "id": "566349b528ac0b1e",
   "outputs": [],
   "execution_count": 8
  },
  {
   "metadata": {
    "ExecuteTime": {
     "end_time": "2024-10-17T09:11:15.802548Z",
     "start_time": "2024-10-17T09:11:05.677420Z"
    }
   },
   "cell_type": "code",
   "source": [
    "lowess_lib = Lowess(lib_knn)\n",
    "lowess_lib_weights = lowess_lib.correct_weights(x_train, y_train)\n",
    "\n",
    "idx = np.random.choice(np.arange(len(x_train)), size=len(x_train), replace=True, p=lowess_lib_weights/np.sum(lowess_lib_weights))\n",
    "x_sampled = x_train[idx]\n",
    "y_sampled = y_train[idx]\n",
    "\n",
    "lowess_lib.knn.fit(x_sampled, y_sampled)\n",
    "lowess_lib_predictions = lowess_lib.knn.predict(x_test)\n",
    "\n",
    "print('With LOWESS -> ', accuracy_score(y_test, lowess_lib_predictions))\n",
    "print('Without LOWESS -> ', accuracy_score(y_test, lib_predictions))"
   ],
   "id": "438f8319bc2c411d",
   "outputs": [
    {
     "name": "stdout",
     "output_type": "stream",
     "text": [
      "With LOWESS ->  0.29178885630498536\n",
      "Without LOWESS ->  0.2829912023460411\n"
     ]
    }
   ],
   "execution_count": 9
  },
  {
   "metadata": {},
   "cell_type": "markdown",
   "source": [
    "With LOWESS ->  0.29178885630498536\n",
    "<br>\n",
    "Without LOWESS ->  0.2829912023460411"
   ],
   "id": "c4a6d349eea27c0c"
  }
 ],
 "metadata": {
  "kernelspec": {
   "display_name": "Python 3",
   "language": "python",
   "name": "python3"
  },
  "language_info": {
   "codemirror_mode": {
    "name": "ipython",
    "version": 2
   },
   "file_extension": ".py",
   "mimetype": "text/x-python",
   "name": "python",
   "nbconvert_exporter": "python",
   "pygments_lexer": "ipython2",
   "version": "2.7.6"
  }
 },
 "nbformat": 4,
 "nbformat_minor": 5
}
